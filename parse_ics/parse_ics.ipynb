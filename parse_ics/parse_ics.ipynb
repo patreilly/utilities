{
 "cells": [
  {
   "cell_type": "code",
   "execution_count": 43,
   "id": "407b49c3",
   "metadata": {},
   "outputs": [],
   "source": [
    "from ics import Calendar\n",
    "import requests\n",
    "import csv"
   ]
  },
  {
   "cell_type": "code",
   "execution_count": 13,
   "id": "f6417d99",
   "metadata": {},
   "outputs": [],
   "source": [
    "url = \"http://tmsdln.com/1x5dd\"\n",
    "c = Calendar(requests.get(url).text)\n",
    "# with open(\"schedule.ics\", \"r\") as f:\n",
    "#     c = Calendar(requests.get(url).text)"
   ]
  },
  {
   "cell_type": "code",
   "execution_count": 27,
   "id": "6eaa2c62",
   "metadata": {},
   "outputs": [],
   "source": [
    "my_team_name = 'Due Soccer Club'"
   ]
  },
  {
   "cell_type": "code",
   "execution_count": 46,
   "id": "25cef756",
   "metadata": {},
   "outputs": [
    {
     "name": "stdout",
     "output_type": "stream",
     "text": [
      "Due Soccer Club vs. Bates Motel O30\n",
      "event date: 03/06/2023\n",
      "event time: 08:45 PM\n",
      "Twin Ponds\n",
      "F.C Bosna vs. Due Soccer Club\n",
      "event date: 03/13/2023\n",
      "event time: 08:45 PM\n",
      "Lower Woodland Park - #2\n",
      "Due Soccer Club vs. Rainier Riot O30\n",
      "event date: 03/27/2023\n",
      "event time: 08:45 PM\n",
      "Shoreline Park - #B\n",
      "Seattle Steel FC vs. Due Soccer Club\n",
      "event date: 04/03/2023\n",
      "event time: 07:00 PM\n",
      "Ingraham HS - #2\n",
      "Due Soccer Club vs. PKS\n",
      "event date: 04/10/2023\n",
      "event time: 08:00 PM\n",
      "Nathan Hale HS\n",
      "Seattle Assault FC vs. Due Soccer Club\n",
      "event date: 04/17/2023\n",
      "event time: 08:45 PM\n",
      "Twin Ponds\n",
      "Bates Motel O30 vs. Due Soccer Club\n",
      "event date: 04/24/2023\n",
      "event time: 08:45 PM\n",
      "Grasslawn Park - #1\n",
      "Due Soccer Club vs. F.C Bosna\n",
      "event date: 05/01/2023\n",
      "event time: 07:00 PM\n",
      "Nathan Hale HS\n",
      "Due Soccer Club vs. Hanks FC\n",
      "event date: 05/08/2023\n",
      "event time: 08:45 PM\n",
      "Shoreline Park - #A\n",
      "Hanks FC vs. Due Soccer Club\n",
      "event date: 05/22/2023\n",
      "event time: 08:30 PM\n",
      "Woodinville Sports Field #2 - #2\n"
     ]
    }
   ],
   "source": [
    "c.events\n",
    "new_events = []\n",
    "for e in list(c.timeline):\n",
    "    event_date_time = e.begin.to('US/Pacific')\n",
    "    event_date = event_date_time.format('MM/DD/YYYY')\n",
    "    event_time = event_date_time.format('hh:mm A')\n",
    "    opp_home_away = get_opponent_home_away(e.name,my_team_name)\n",
    "\n",
    "    event = {\n",
    "        \"Date\": event_date,\n",
    "        \"Time\": event_time,\n",
    "        \"Duration (HH:MM)\": \"01:30\",\n",
    "        \"Name\": \"Regular Season Match\",\n",
    "        \"Opponent Name\": opp_home_away['opponent'],\n",
    "        \"Location Name\": e.location,\n",
    "        \"Home or Away\": opp_home_away['home_away']\n",
    "    }\n",
    "    new_events.append(event)"
   ]
  },
  {
   "cell_type": "code",
   "execution_count": 37,
   "id": "88fc84fb",
   "metadata": {},
   "outputs": [],
   "source": [
    "def get_opponent_home_away(event_name, my_team_name) -> str:\n",
    "    teams = event_name.split(' vs. ')\n",
    "    opponent = ''\n",
    "    home_away = 'h' if teams[0] == my_team_name else 'a'\n",
    "    for team in teams:\n",
    "        if team != my_team_name:\n",
    "            opponent = team\n",
    "            \n",
    "    return {\n",
    "        \"opponent\": opponent,\n",
    "        \"home_away\": home_away\n",
    "    }"
   ]
  },
  {
   "cell_type": "code",
   "execution_count": 49,
   "id": "5793d35d",
   "metadata": {},
   "outputs": [],
   "source": [
    "with open('season.csv', 'w') as csvfile:\n",
    "    writer = csv.DictWriter(csvfile, fieldnames=new_events[0].keys())\n",
    "    writer.writeheader()\n",
    "    for data in new_events:\n",
    "        writer.writerow(data)"
   ]
  },
  {
   "cell_type": "code",
   "execution_count": null,
   "id": "558b1e6e",
   "metadata": {},
   "outputs": [],
   "source": []
  }
 ],
 "metadata": {
  "kernelspec": {
   "display_name": "Python 3 (ipykernel)",
   "language": "python",
   "name": "python3"
  },
  "language_info": {
   "codemirror_mode": {
    "name": "ipython",
    "version": 3
   },
   "file_extension": ".py",
   "mimetype": "text/x-python",
   "name": "python",
   "nbconvert_exporter": "python",
   "pygments_lexer": "ipython3",
   "version": "3.11.0"
  }
 },
 "nbformat": 4,
 "nbformat_minor": 5
}
